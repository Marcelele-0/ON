{
 "cells": [
  {
   "cell_type": "markdown",
   "id": "0baa25b7",
   "metadata": {},
   "source": [
    "# Zadanie 1: Rozpoznanie arytmetyki\n",
    "\n",
    "---\n",
    "\n",
    "## Część 1: Wyznaczanie epsilona maszynowego (`macheps`)\n",
    "\n",
    "### 1. Opis problemu\n",
    "Wyznaczenie epsilona maszynowego (`macheps`), czyli najmniejszej liczby $x > 0$ takiej, że $1.0 + x \\neq 1.0$. Użyjemy iteracyjnego dzielenia przez 2.0. Porównamy wynik z funkcją `eps(T)` oraz standardowymi stałymi z pliku `float.h` języka C."
   ]
  },
  {
   "cell_type": "code",
   "execution_count": 12,
   "id": "50b7106a",
   "metadata": {},
   "outputs": [
    {
     "name": "stdout",
     "output_type": "stream",
     "text": [
      "--- Wyznaczanie Epsilona Maszynowego (macheps) ---\n",
      "--- Typ: Float16 ---\n",
      "Iteracyjnie: \t\t9.76562500e-04\n",
      "Wbudowane (eps): \t9.76562500e-04\n",
      "--- Typ: Float32 ---\n",
      "Iteracyjnie: \t\t1.19209290e-07\n",
      "Wbudowane (eps): \t1.19209290e-07\n",
      "--- Typ: Float64 ---\n",
      "Iteracyjnie: \t\t2.22044605e-16\n",
      "Wbudowane (eps): \t2.22044605e-16\n"
     ]
    }
   ],
   "source": [
    "using Printf\n",
    "\n",
    "function find_macheps(T::Type{<:AbstractFloat})\n",
    "    one::T = T(1.0)\n",
    "    two::T = T(2.0)\n",
    "    macheps::T = one\n",
    "\n",
    "    while (one + (macheps / two)) > one\n",
    "        macheps = macheps / two\n",
    "    end\n",
    "    \n",
    "    return macheps\n",
    "end\n",
    "\n",
    "types_to_test = [Float16, Float32, Float64]\n",
    "println(\"--- Wyznaczanie Epsilona Maszynowego (macheps) ---\")\n",
    "\n",
    "for T in types_to_test\n",
    "    @printf \"--- Typ: %s ---\\n\" T\n",
    "    @printf \"Iteracyjnie: \\t\\t%.8e\\n\" find_macheps(T)\n",
    "    @printf \"Wbudowane (eps): \\t%.8e\\n\" eps(T)\n",
    "end"
   ]
  },
  {
   "cell_type": "markdown",
   "id": "426a063c",
   "metadata": {},
   "source": [
    "### 3. Wyniki i interpretacja\n",
    "**Interpretacja i porównanie z `float.h` (C):**\n",
    "Wyniki obliczeń iteracyjnych są identyczne z funkcjami wbudowanymi Julii. Poniżej jawne zestawienie ze standardowymi stałymi C (używając precyzji z naszego outputu):\n",
    "\n",
    "* **Float32 (Single):**\n",
    "    * Nasz wynik: `1.19209290e-07`\n",
    "    * Stała C `FLT_EPSILON`: `1.19209290e-07` ($2^{-23}$)\n",
    "    * *Zgodność: Tak*\n",
    "\n",
    "* **Float64 (Double):**\n",
    "    * Nasz wynik: `2.22044605e-16`\n",
    "    * Stała C `DBL_EPSILON`: `2.22044605e-16` ($2^{-52}$)\n",
    "    * *Zgodność: Tak*\n",
    "\n",
    "### 4. Wnioski\n",
    "Obliczenia iteracyjne dały wyniki w pełni zgodne z wbudowanymi funkcjami Julii oraz standardowymi wartościami `FLT_EPSILON` i `DBL_EPSILON` ze **standardu IEEE 754**. Wartość ta definiuje *jednostkowy błąd zaokrąglenia* ($u = \\text{macheps} / 2$), który jest kluczowym parametrem w analizie błędów **obliczeń maszynowych** i pokazuje granicę precyzji względnej operacji."
   ]
  },
  {
   "cell_type": "markdown",
   "id": "e68e8232",
   "metadata": {},
   "source": [
    "---\n",
    "\n",
    "## Część 2: Wyznaczanie najmniejszej liczby dodatniej (`eta` / $MIN_{sub}$)\n",
    "\n",
    "### 1. Opis problemu\n",
    "Wyznaczenie najmniejszej dodatniej liczby maszynowej `eta` (tzw. $MIN_{sub}$). Użyjemy iteracyjnego dzielenia przez 2.0, aż do osiągnięcia 0.0. Porównamy wynik z `nextfloat(T(0.0))` oraz sprawdzimy, czy `float.h` definiuje tę wartość."
   ]
  },
  {
   "cell_type": "code",
   "execution_count": 13,
   "id": "945426d4",
   "metadata": {},
   "outputs": [
    {
     "name": "stdout",
     "output_type": "stream",
     "text": [
      "\n",
      "--- Wyznaczanie Najmniejszej Liczby Dodatniej (eta / MIN_sub) ---\n",
      "--- Typ: Float16 ---\n",
      "Iteracyjnie: \t\t\t5.96046448e-08\n",
      "Wbudowane (nextfloat(0.0)): \t5.96046448e-08\n",
      "--- Typ: Float32 ---\n",
      "Iteracyjnie: \t\t\t1.40129846e-45\n",
      "Wbudowane (nextfloat(0.0)): \t1.40129846e-45\n",
      "--- Typ: Float64 ---\n",
      "Iteracyjnie: \t\t\t4.94065646e-324\n",
      "Wbudowane (nextfloat(0.0)): \t4.94065646e-324\n"
     ]
    }
   ],
   "source": [
    "function find_eta(T::Type{<:AbstractFloat})\n",
    "    one::T = T(1.0)\n",
    "    two::T = T(2.0)\n",
    "    zero::T = T(0.0)\n",
    "    eta::T = one\n",
    "\n",
    "    while (eta / two) > zero\n",
    "        eta = eta / two\n",
    "    end\n",
    "    \n",
    "    return eta\n",
    "end\n",
    "\n",
    "println(\"\\n--- Wyznaczanie Najmniejszej Liczby Dodatniej (eta / MIN_sub) ---\")\n",
    "\n",
    "for T in types_to_test\n",
    "    @printf \"--- Typ: %s ---\\n\" T\n",
    "    @printf \"Iteracyjnie: \\t\\t\\t%.8e\\n\" find_eta(T)\n",
    "    @printf \"Wbudowane (nextfloat(0.0)): \\t%.8e\\n\" nextfloat(T(0.0))\n",
    "end"
   ]
  },
  {
   "cell_type": "markdown",
   "id": "1a1098c5",
   "metadata": {},
   "source": [
    "### 3. Wyniki i interpretacja\n",
    "**Interpretacja i porównanie z `float.h` (C):**\n",
    "Wyniki iteracyjne są identyczne z wartościami `nextfloat(T(0.0))`.\n",
    "\n",
    "* **Float32 (Single):**\n",
    "    * Nasz wynik (`eta`): `1.40129846e-45`\n",
    "    * Stała C `float.h`: *Brak* (standard C definiuje tylko `FLT_MIN`, patrz Część 3)\n",
    "\n",
    "* **Float64 (Double):**\n",
    "    * Nasz wynik (`eta`): `4.94065646e-324`\n",
    "    * Stała C `float.h`: *Brak* (standard C definiuje tylko `DBL_MIN`, patrz Część 3)\n",
    "\n",
    "### 4. Wnioski\n",
    "Eksperyment potwierdził istnienie **liczb subnormalnych (zdenormalizowanych)**, kluczowego elementu **standardu IEEE 754**. Wyznaczona `eta` ($MIN_{sub}$) reprezentuje mechanizm \"łagodnego niedomiaru\" (gradual underflow). W **obliczeniach maszynowych** pozwala to uniknąć gwałtownego \"przeskoku\" do zera, co jest krytyczne dla stabilności algorytmów operujących na bardzo małych wartościach."
   ]
  },
  {
   "cell_type": "markdown",
   "id": "40e016c5",
   "metadata": {},
   "source": [
    "---\n",
    "\n",
    "## Część 3: Analiza `floatmin` vs $MIN_{nor}$ (i `float.h`)\n",
    "\n",
    "### 1. Opis problemu\n",
    "Sprawdzenie, co zwraca funkcja `floatmin(T)` i jaki ma związek z $MIN_{nor}$ (najmniejszą liczbą znormalizowaną) oraz ze stałymi `FLT_MIN` i `DBL_MIN` z `float.h`."
   ]
  },
  {
   "cell_type": "code",
   "execution_count": 16,
   "id": "b2d49cb9",
   "metadata": {},
   "outputs": [
    {
     "name": "stdout",
     "output_type": "stream",
     "text": [
      "--- Badanie floatmin(T) ---\n",
      "floatmin(Float16): \t6.10351562e-05 (vs eta: 5.96046448e-08)\n",
      "floatmin(Float32): \t1.17549435e-38 (vs eta: 1.40129846e-45)\n",
      "floatmin(Float64): \t2.22507386e-308 (vs eta: 4.94065646e-324)\n"
     ]
    }
   ],
   "source": [
    "println(\"--- Badanie floatmin(T) ---\")\n",
    "# Uwaga: funkcja find_eta() została zdefiniowana w poprzedniej komórce\n",
    "@printf \"floatmin(Float16): \\t%.8e (vs eta: %.8e)\\n\" floatmin(Float16) find_eta(Float16)\n",
    "@printf \"floatmin(Float32): \\t%.8e (vs eta: %.8e)\\n\" floatmin(Float32) find_eta(Float32)\n",
    "@printf \"floatmin(Float64): \\t%.8e (vs eta: %.8e)\\n\" floatmin(Float64) find_eta(Float64)"
   ]
  },
  {
   "cell_type": "markdown",
   "id": "96aae791",
   "metadata": {},
   "source": [
    "### 3. Wyniki i interpretacja\n",
    "**Interpretacja i porównanie z `float.h` (C):**\n",
    "Wartości `floatmin(T)` są znacznie większe niż `eta` ($MIN_{sub}$). Porównanie ze stałymi C:\n",
    "\n",
    "* **Float32 (Single):**\n",
    "    * Nasz wynik (`floatmin`): `1.17549435e-38`\n",
    "    * Stała C `FLT_MIN`: `1.17549435e-38`\n",
    "    * *Zgodność: Tak*\n",
    "\n",
    "* **Float64 (Double):**\n",
    "    * Nasz wynik (`floatmin`): `2.22507386e-308`\n",
    "    * Stała C `DBL_MIN`: `2.22507386e-308`\n",
    "    * *Zgodność: Tak*\n",
    "\n",
    "### 4. Wnioski\n",
    "Eksperyment jasno pokazuje fundamentalne rozróżnienie w **standardzie IEEE 754**:\n",
    "1.  `eta` ($MIN_{sub}$): Najmniejsza liczba subnormalna (obszar *gradual underflow*).\n",
    "2.  `floatmin(T)` ($MIN_{nor}$): Najmniejsza liczba **znormalizowana**.\n",
    "\n",
    "Jak widać z jawnego porównania, to właśnie $MIN_{nor}$ (a nie $MIN_{sub}$) jest zdefiniowane w standardzie C (`FLT_MIN`, `DBL_MIN`). W **obliczeniach maszynowych** $MIN_{nor}$ wyznacza początek zakresu, w którym liczby mają pełną precyzję względną."
   ]
  },
  {
   "cell_type": "markdown",
   "id": "423193cb",
   "metadata": {},
   "source": [
    "---\n",
    "\n",
    "## Część 4: Wyznaczanie największej liczby skończonej (`MAX`)\n",
    "\n",
    "### 1. Opis problemu\n",
    "Wyznaczenie największej skończonej liczby maszynowej ($MAX$). Znajdziemy największą potęgę dwójki $P = 2^{E_{max}}$ (mnożąc do `Inf`), a następnie obliczymy $MAX = P \\times (2.0 - \\text{macheps})$. Porównamy wynik z `floatmax(T)` oraz stałymi z `float.h`."
   ]
  },
  {
   "cell_type": "code",
   "execution_count": 17,
   "id": "c76742f5",
   "metadata": {},
   "outputs": [
    {
     "name": "stdout",
     "output_type": "stream",
     "text": [
      "\n",
      "--- Wyznaczanie Największej Liczby Skończonej (MAX) ---\n",
      "--- Typ: Float16 ---\n",
      "Iteracyjnie: \t\t6.55040000e+04\n",
      "Wbudowane (floatmax): \t6.55040000e+04\n",
      "--- Typ: Float32 ---\n",
      "Iteracyjnie: \t\t3.40282347e+38\n",
      "Wbudowane (floatmax): \t3.40282347e+38\n",
      "--- Typ: Float64 ---\n",
      "Iteracyjnie: \t\t1.79769313e+308\n",
      "Wbudowane (floatmax): \t1.79769313e+308\n"
     ]
    }
   ],
   "source": [
    "function find_max(T::Type{<:AbstractFloat})\n",
    "    one::T = T(1.0)\n",
    "    two::T = T(2.0)\n",
    "\n",
    "    # Używamy funkcji zdefiniowanej w Części 1\n",
    "    macheps = find_macheps(T) \n",
    "\n",
    "    # Znajdź największą potęgę dwójki (2^E_max)\n",
    "    max_power_of_2 = one\n",
    "    while !isinf(max_power_of_2 * two)\n",
    "        max_power_of_2 = max_power_of_2 * two\n",
    "    end\n",
    "    \n",
    "    # Oblicz MAX\n",
    "    iterative_max = max_power_of_2 * (two - macheps)\n",
    "    \n",
    "    return iterative_max\n",
    "end\n",
    "\n",
    "println(\"\\n--- Wyznaczanie Największej Liczby Skończonej (MAX) ---\")\n",
    "\n",
    "for T in types_to_test\n",
    "    @printf \"--- Typ: %s ---\\n\" T\n",
    "    @printf \"Iteracyjnie: \\t\\t%.8e\\n\" find_max(T)\n",
    "    @printf \"Wbudowane (floatmax): \\t%.8e\\n\" floatmax(T)\n",
    "end"
   ]
  },
  {
   "cell_type": "markdown",
   "id": "23b96591",
   "metadata": {},
   "source": [
    "### 3. Wyniki i interpretacja\n",
    "**Interpretacja i porównanie z `float.h` (C):**\n",
    "Wyniki iteracyjne są identyczne z wartościami `floatmax(T)`. Porównanie ze stałymi C:\n",
    "\n",
    "* **Float32 (Single):**\n",
    "    * Nasz wynik: `3.40282347e+38`\n",
    "    * Stała C `FLT_MAX`: `3.40282347e+38`\n",
    "    * *Zgodność: Tak*\n",
    "\n",
    "* **Float64 (Double):**\n",
    "    * Nasz wynik: `1.79769313e+308`\n",
    "    * Stała C `DBL_MAX`: `1.79769313e+308`\n",
    "    * *Zgodność: Tak*\n",
    "\n",
    "### 4. Wnioski\n",
    "Wyznaczona wartość $MAX$ reprezentuje górną granicę zakresu liczb znormalizowanych. Jawne porównanie potwierdza pełną zgodność ze **standardem IEEE 754** oraz stałymi C (`FLT_MAX`, `DBL_MAX`). W **obliczeniach maszynowych**, przekroczenie tej wartości skutkuje \"nadmiarem\" (overflow) i jest sygnalizowane wartością `Inf`. Zrozumienie tego limitu jest niezbędne przy projektowaniu stabilnych numerycznie algorytmów.\n"
   ]
  }
 ],
 "metadata": {
  "kernelspec": {
   "display_name": "Julia 1.12.1",
   "language": "julia",
   "name": "julia-1.12"
  },
  "language_info": {
   "file_extension": ".jl",
   "mimetype": "application/julia",
   "name": "julia",
   "version": "1.12.1"
  }
 },
 "nbformat": 4,
 "nbformat_minor": 5
}
